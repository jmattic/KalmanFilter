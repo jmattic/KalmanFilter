{
 "cells": [
  {
   "cell_type": "code",
   "execution_count": 316,
   "metadata": {},
   "outputs": [],
   "source": [
    "#Kalman Filter code on data from “Kalman and Bayesian Filters in Python” Chapter 4; Code created by Joaquin Matticoli"
   ]
  },
  {
   "cell_type": "code",
   "execution_count": 317,
   "metadata": {},
   "outputs": [],
   "source": [
    "import numpy as np\n",
    "import filterpy\n",
    "from filterpy.kalman import KalmanFilter as kf\n",
    "from filterpy.kalman import predict, update\n",
    "from numpy.random import randn\n",
    "from filterpy.common import Q_discrete_white_noise\n",
    "import matplotlib.pyplot as plt\n",
    "import math\n",
    "from math import sqrt"
   ]
  },
  {
   "cell_type": "code",
   "execution_count": 318,
   "metadata": {},
   "outputs": [],
   "source": [
    "class DogSimulation(object):\n",
    "    def __init__(self, x0=0, velocity=1,\n",
    "                 measurement_var=0.0,\n",
    "                 process_var=0.0):\n",
    "        \"\"\" x0 : initial position\n",
    "            velocity: (+=right, -=left)\n",
    "            measurement_var: variance in measurement m^2\n",
    "            process_var: variance in process (m/s)^2\n",
    "        \"\"\"\n",
    "        self.x = x0\n",
    "        self.velocity = velocity\n",
    "        self.meas_std = sqrt(measurement_var)\n",
    "        self.process_std = sqrt(process_var)\n",
    "\n",
    "    def move(self, dt=1.0):\n",
    "        \"\"\"Compute new position of the dog in dt seconds.\"\"\"\n",
    "        dx = self.velocity + randn()*self.process_std\n",
    "        self.x += dx * dt\n",
    "\n",
    "    def sense_position(self):\n",
    "        \"\"\" Returns measurement of new position in meters.\"\"\"\n",
    "        measurement = self.x + randn()*self.meas_std\n",
    "        return measurement\n",
    "\n",
    "    def move_and_sense(self):\n",
    "        \"\"\" Move dog, and return measurement of new position in meters\"\"\"\n",
    "        self.move()\n",
    "        return self.sense_position()"
   ]
  },
  {
   "cell_type": "code",
   "execution_count": 319,
   "metadata": {},
   "outputs": [],
   "source": [
    "from collections import namedtuple\n",
    "gaussian = namedtuple('Gaussian', ['mean', 'var'])\n",
    "gaussian.__repr__ = lambda s: '𝒩(μ={:.3f}, 𝜎²={:.3f})'.format(s[0], s[1])\n",
    "\n",
    "def print_gh(predict, predict_var, z, update, update_var):\n",
    "    predict_template = '{: 7.3f} {: 8.3f}'\n",
    "    update_template = '{:.3f}\\t{: 7.3f} {: 7.3f}'\n",
    "\n",
    "    print(predict_template.format(predict, predict_var),end='\\t')\n",
    "    print(update_template.format(z, update, update_var))\n",
    "\n",
    "np.random.seed(13) #Set to 13 to compare with \"1DHandCodeKF.ipynb\"\n",
    "\n",
    "#-------------USER INPUTS OF DATA---------------------------------\n",
    "\n",
    "printcase = 1 #if 1, will print values\n",
    "plotcase = 1 #if 1, will plot values\n",
    "\n",
    "process_var = 1. # variance in the dog's movement\n",
    "sensor_var = 2. # variance in the sensor\n",
    "n_iter = 10 #Number of measurements taken by sensor(s)\n",
    "x = gaussian(0., 20.**2)  # dog's position and variance\n",
    "velocity = gaussian(1., 7**2) # dog's velocity and variance\n",
    "dt = 1. # time step in seconds\n",
    "process_model = gaussian(velocity.mean*dt, process_var) # displacement to add to x\n",
    "\n",
    "#-------------END OF USER INPUTS FOR DATA-------------------------\n",
    "\n",
    "# simulate dog and get measurements\n",
    "dog = DogSimulation(\n",
    "    x0=x.mean, \n",
    "    velocity=process_model.mean, \n",
    "    measurement_var=sensor_var, \n",
    "    process_var=process_model.var)\n",
    "\n",
    "# create list of measurements\n",
    "ztrue = np.zeros(n_iter)\n",
    "for _ in range(n_iter):\n",
    "    zs[_] = dog.move_and_sense()\n",
    "    ztrue[_] = dog.x\n",
    "finalposition = dog.x"
   ]
  },
  {
   "cell_type": "code",
   "execution_count": 320,
   "metadata": {},
   "outputs": [],
   "source": [
    "#-------------USER INPUT FOR KALMAN FILER--------------------------\n",
    "\n",
    "f = kf(dim_x = 2, dim_z = 1)\n",
    "f.z = zs\n",
    "f.F = np.array([[1,dt],\n",
    "                [0,1]]) #State Transition Matrix, eqns related to variables\n",
    "f.Q = Q_discrete_white_noise(dim=2, dt=dt, var=0.1) #Process noise/covariance. Since noise already in the measurement function, do I need this?\n",
    "\n",
    "#-------------END OF USER INPUT FOR KALMAN FILTER------------------\n",
    "\n",
    "f.x = np.array([[x.mean],\n",
    "               [velocity.mean]])\n",
    "f.P = np.diag([x.var,velocity.var]) #State Covariance, relation between variables\n",
    "f.R = sensor_var #Measurement noise/covariance, varaince of sensor(s)\n",
    "f.H = np.array([[1.,0]]) #Measurement function, this is correct for measuring position from pos. and vel."
   ]
  },
  {
   "cell_type": "code",
   "execution_count": 321,
   "metadata": {},
   "outputs": [
    {
     "name": "stdout",
     "output_type": "stream",
     "text": [
      "PREDICT\t\t\tUPDATE\n",
      "     x      var\t\t  z\t    x      var\n",
      "  1.000  449.025\t1.354\t  1.352   1.991\n",
      "  2.390   46.217\t1.882\t  1.903   1.917\n",
      "  2.477    9.248\t4.341\t  4.010   1.644\n",
      "  5.500    4.671\t7.156\t  6.660   1.400\n",
      "  8.664    3.159\t6.939\t  7.607   1.225\n",
      "  9.222    2.483\t6.844\t  7.905   1.108\n",
      "  9.078    2.152\t9.847\t  9.477   1.037\n",
      " 10.779    1.993\t12.553\t 11.665   0.998\n",
      " 13.254    1.925\t16.273\t 14.735   0.981\n",
      " 16.807    1.901\t14.800\t 15.829   0.975\n",
      "\n",
      "final estimate:            15.829\n",
      "actual final position:     14.838\n"
     ]
    },
    {
     "data": {
      "image/png": "[encoded data removed]",
      "text/plain": [
       "<Figure size 432x288 with 1 Axes>"
      ]
     },
     "metadata": {
      "needs_background": "light"
     },
     "output_type": "display_data"
    },
    {
     "data": {
      "image/png": "[encoded data removed]",
      "text/plain": [
       "<Figure size 432x288 with 1 Axes>"
      ]
     },
     "metadata": {
      "needs_background": "light"
     },
     "output_type": "display_data"
    }
   ],
   "source": [
    "def plotstuff():\n",
    "    plt.figure()\n",
    "    plt.plot(zs,'k+',label='Noisy Measurements')\n",
    "    plt.plot(x1,'r*',label='A Priori Estimate')\n",
    "    plt.plot(xhat,'b-',label='A Posteri Estimate')\n",
    "    plt.plot(ztrue,color='g',label='True Value')\n",
    "    #plt.plot(xhat,'r*',label='prediction')\n",
    "    plt.legend()\n",
    "    plt.title('Estimate vs. Iteration Step', fontweight='bold')\n",
    "    plt.xlabel('Iteration')\n",
    "    plt.ylabel('Position')\n",
    "    \n",
    "    plt.figure()\n",
    "    valid_iter = range(1,n_iter) # Pminus not valid at step 0\n",
    "    plt.plot(valid_iter,Pminus[valid_iter],label='A Posteri Error Estimate')\n",
    "    plt.title('Estimated $\\it{\\mathbf{a \\ priori}}$ Error vs. Iteration Step', fontweight='bold')\n",
    "    plt.xlabel('Iteration')\n",
    "    plt.ylabel('$(Position)^2$')\n",
    "    #plt.setp(plt.gca(),'ylim',[0,.01])\n",
    "    plt.show()\n",
    "\n",
    "def getmeasurement(i):\n",
    "    z_current = np.zeros(1)\n",
    "    z_current[0] = zs[i]\n",
    "    #z_current[1,0] = zsl[1,i]\n",
    "    return z_current\n",
    "\n",
    "x1 = np.zeros(n_iter)\n",
    "#x2 = np.zeros(n_iter)\n",
    "Pminus = np.zeros(n_iter)\n",
    "xhat = np.zeros(n_iter)\n",
    "counter = 0\n",
    "if printcase == 1:\n",
    "    print('PREDICT\\t\\t\\tUPDATE')\n",
    "    print('     x      var\\t\\t  z\\t    x      var')\n",
    "while True:\n",
    "    z = getmeasurement(counter)\n",
    "    #f.z = zs #Worked without this, do I need it?\n",
    "    f.predict(F=f.F, Q=f.Q)\n",
    "    x1[counter] = f.x_prior[0,0]\n",
    "    f.update(z,R=f.R ,H=f.H)\n",
    "    xhat[counter] = f.x[0,0]\n",
    "    Pminus[counter] = f.P[0,0]\n",
    "    if printcase == 1:\n",
    "        print_gh(f.x_prior[0,0], f.P_prior[0,0], z[0], f.x[0,0], f.P[0,0])\n",
    "    counter += 1\n",
    "    if (counter == (n_iter)):\n",
    "        break\n",
    "if printcase == 1:\n",
    "    print()\n",
    "    print('final estimate:        {:10.3f}'.format(f.x[0,0]))\n",
    "    print('actual final position: {:10.3f}'.format(finalposition))\n",
    "if plotcase == 1:\n",
    "    plotstuff()"
   ]
  },
  {
   "cell_type": "code",
   "execution_count": null,
   "metadata": {},
   "outputs": [],
   "source": []
  }
 ],
 "metadata": {
  "kernelspec": {
   "display_name": "Python 3",
   "language": "python",
   "name": "python3"
  },
  "language_info": {
   "codemirror_mode": {
    "name": "ipython",
    "version": 3
   },
   "file_extension": ".py",
   "mimetype": "text/x-python",
   "name": "python",
   "nbconvert_exporter": "python",
   "pygments_lexer": "ipython3",
   "version": "3.7.7"
  }
 },
 "nbformat": 4,
 "nbformat_minor": 4
}
