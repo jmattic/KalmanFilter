{
 "cells": [
  {
   "cell_type": "code",
   "execution_count": 7,
   "metadata": {},
   "outputs": [],
   "source": [
    "#Code Prototype for Multivariate 1D use on EXCLAIM Project with multiple sensors, code by Joaquin Matticoli"
   ]
  },
  {
   "cell_type": "code",
   "execution_count": 8,
   "metadata": {},
   "outputs": [],
   "source": [
    "import numpy as np\n",
    "import filterpy\n",
    "from filterpy.kalman import KalmanFilter as kf\n",
    "from filterpy.kalman import predict\n",
    "from filterpy.kalman import update\n",
    "from numpy.random import randn\n",
    "#from filterpy.common import Q_discrete_white_noise\n",
    "import matplotlib.pyplot as plt\n",
    "#import filterpy.stats as stats\n",
    "import math\n",
    "from math import sqrt"
   ]
  },
  {
   "cell_type": "code",
   "execution_count": 9,
   "metadata": {},
   "outputs": [],
   "source": [
    "from collections import namedtuple\n",
    "gaussian = namedtuple('Gaussian', ['mean', 'var'])\n",
    "gaussian.__repr__ = lambda s: '𝒩(μ={:.3f}, 𝜎²={:.3f})'.format(s[0], s[1])\n",
    "\n",
    "np.random.seed(24)\n",
    "\n",
    "def print_gh(predict, update, z1, z2, K):\n",
    "    predict_template = '{: 7.3f} {: 8.3f}'\n",
    "    update_template = '{:.3f}\\t{:.3f}\\t{: 7.3f} {: 7.3f}   {:.3f}'\n",
    "\n",
    "    print(predict_template.format(predict[0], predict[1]),end='\\t')\n",
    "    print(update_template.format(z1, z2, update[0], update[1], K))"
   ]
  },
  {
   "cell_type": "code",
   "execution_count": 10,
   "metadata": {},
   "outputs": [],
   "source": [
    "class PayloadSimulation(object):\n",
    "    def __init__(self, x0=0, angular_velocity2=1,\n",
    "                 measurement1_var=0.0, measurement2_var = 0.0,\n",
    "                 process_var=0.0):\n",
    "        \"\"\" x0 : initial orientation\n",
    "            angular_velocity: (+=counterclockwise, -=clockwise)\n",
    "            measurement_var: variances in measurement deg^2\n",
    "            process_var: variance in process (deg/s)^2\n",
    "        \"\"\"\n",
    "        self.x = x0\n",
    "        self.angular_velocity = angular_velocity2\n",
    "        self.meas1_std = sqrt(measurement1_var)\n",
    "        self.meas2_std = sqrt(measurement2_var)\n",
    "        self.process_std = sqrt(process_var)\n",
    "\n",
    "    def move(self, dt=1.0):\n",
    "        \"\"\"Compute new orientation of the payload in dt seconds.\"\"\"\n",
    "        dx = self.angular_velocity + abs(randn()*self.process_std)\n",
    "        self.x += dx * dt\n",
    "\n",
    "    def sense_position(self):\n",
    "        \"\"\" Returns measurement of new orientation in degrees.\"\"\"\n",
    "        measurement = self.x + abs(randn()*self.meas1_std)\n",
    "        return measurement\n",
    "    \n",
    "    def sense_velocity(self):\n",
    "        \"\"\" Returns measurement of new angular velocity in deg/sec.\"\"\"\n",
    "        measurement2 = self.angular_velocity + abs(randn()*self.meas2_std)\n",
    "        return measurement2\n",
    "\n",
    "    def move_and_sense(self):\n",
    "        \"\"\" Move payload, and return measurement of new orientation in degrees\"\"\"\n",
    "        self.move()\n",
    "        return self.sense_position()"
   ]
  },
  {
   "cell_type": "code",
   "execution_count": 11,
   "metadata": {},
   "outputs": [],
   "source": [
    "printcase = 1 # If set to 1 it will print out the results\n",
    "plotcov = 0 # If set to 1 it will plot the covariance results, printing this alongside data causes issues with spacing but still works\n",
    "plotcase = 1 # If set to 1 it will plot results\n",
    "\n",
    "#-----------USER INPUT STARTS------------------------------\n",
    "\n",
    "number_of_variables = 2 #number of variables being measured\n",
    "number_of_sensors = 2 #number of sensors used\n",
    "process_var = 5. # variance in the payload's movement\n",
    "sensor1_var = 2. # variance in the first sensor\n",
    "sensor2_var = 0.5 # variance in second sensor\n",
    "x = gaussian(0., 100.)  # payload's initial guess of orientation in deg and initial variance\n",
    "angular_velocity = 0.5 # angular velocity in deg/s\n",
    "spectral_density = 0.2 #Spectral density of the measurement noise\n",
    "dt = 1. # time step in seconds\n",
    "total_time = 30 # Total time passed from beginning to end of experiment\n",
    "\n",
    "#-----------USER INPUT ENDS--------------------------------\n",
    "\n",
    "process_model = gaussian(angular_velocity, process_var) # displacement to add to x\n",
    "n_iter = math.floor(total_time/dt)\n",
    "\n",
    "    #NOTE: this code will assume that orientation is always increasing/decreasing and not sinusodial because a more complext Kalman filter is needed for those cases\n",
    "    \n",
    "# simulate payload and get measurements\n",
    "payload = PayloadSimulation(\n",
    "    x0=x.mean, \n",
    "    angular_velocity2=process_model.mean, \n",
    "    measurement1_var=sensor1_var, \n",
    "    measurement2_var=sensor2_var,\n",
    "    process_var=process_model.var)\n",
    "\n",
    "# creates list of measurements, NOTE: modify this section if measurements are provided\n",
    "zs, zs2, ztrue = [], [], []\n",
    "for _ in range(n_iter):\n",
    "    zs.append(payload.move_and_sense())\n",
    "    zs2.append(payload.sense_velocity())\n",
    "    ztrue.append(payload.x)\n",
    "finalposition = payload.x"
   ]
  },
  {
   "cell_type": "code",
   "execution_count": 12,
   "metadata": {},
   "outputs": [
    {
     "name": "stdout",
     "output_type": "stream",
     "text": [
      "PREDICT\t\t\t\t\tUPDATE\n",
      "     x      var\t\t  z1\t  z2\t    x      var      K\n",
      "  0.500  105.067\t4.561\t0.724\t  4.486   1.961   0.981\n",
      "  5.206    2.499\t7.702\t1.517\t  6.693   1.073   0.536\n",
      "  7.966    1.599\t8.368\t1.650\t  8.218   0.844   0.422\n",
      "  9.689    1.362\t9.901\t1.836\t  9.852   0.764   0.382\n",
      " 11.497    1.279\t11.738\t0.840\t 11.400   0.733   0.367\n",
      " 12.708    1.248\t16.047\t1.248\t 13.898   0.721   0.360\n",
      " 15.373    1.237\t15.591\t1.445\t 15.444   0.716   0.358\n",
      " 16.919    1.233\t18.591\t0.545\t 17.299   0.715   0.357\n",
      " 18.468    1.232\t19.101\t0.501\t 18.538   0.714   0.357\n",
      " 19.455    1.231\t22.034\t1.234\t 20.449   0.714   0.357\n",
      " 21.655    1.231\t23.630\t1.693\t 22.474   0.714   0.357\n",
      " 24.006    1.231\t28.381\t1.977\t 25.671   0.714   0.357\n",
      " 27.652    1.231\t28.043\t0.915\t 27.542   0.714   0.357\n",
      " 29.084    1.231\t30.088\t0.705\t 29.246   0.714   0.357\n",
      " 30.485    1.231\t34.343\t1.229\t 31.859   0.714   0.357\n",
      " 33.319    1.231\t34.001\t0.533\t 33.346   0.714   0.357\n",
      " 34.444    1.231\t38.667\t1.703\t 36.092   0.714   0.357\n",
      " 37.700    1.231\t41.969\t0.808\t 39.036   0.714   0.357\n",
      " 40.547    1.231\t43.081\t0.577\t 41.233   0.714   0.357\n",
      " 42.488    1.231\t43.574\t0.853\t 42.781   0.714   0.357\n",
      " 43.926    1.231\t45.239\t1.106\t 44.385   0.714   0.357\n",
      " 45.590    1.231\t50.208\t1.256\t 47.250   0.714   0.357\n",
      " 48.747    1.231\t57.607\t1.318\t 51.867   0.714   0.357\n",
      " 53.805    1.231\t59.850\t2.074\t 55.994   0.714   0.357\n",
      " 58.345    1.231\t60.365\t0.604\t 58.657   0.714   0.357\n",
      " 60.369    1.231\t64.853\t0.521\t 61.690   0.714   0.357\n",
      " 63.149    1.231\t69.093\t1.653\t 65.315   0.714   0.357\n",
      " 67.206    1.231\t67.548\t0.966\t 67.112   0.714   0.357\n",
      " 68.622    1.231\t72.655\t0.591\t 69.846   0.714   0.357\n",
      " 71.194    1.231\t74.399\t0.535\t 72.147   0.714   0.357\n",
      "\n",
      "Final estimate:               72.147\n",
      "Actual final orientation:     73.417\n",
      "\n"
     ]
    },
    {
     "data": {
      "image/png": "[encoded data removed]",
      "text/plain": [
       "<Figure size 432x288 with 1 Axes>"
      ]
     },
     "metadata": {
      "needs_background": "light"
     },
     "output_type": "display_data"
    },
    {
     "data": {
      "image/png": "[encoded data removed]",
      "text/plain": [
       "<Figure size 432x288 with 1 Axes>"
      ]
     },
     "metadata": {
      "needs_background": "light"
     },
     "output_type": "display_data"
    }
   ],
   "source": [
    "def plotstuff():\n",
    "    plt.figure()\n",
    "    plt.plot(np.linspace(0,total_time,len(zs)),zs,'k+',label='Noisy Position Measurements')\n",
    "    #plt.plot(np.linspace(0,total_time,len(x1)),x1,'r*',label='A Priori Estimate')\n",
    "    plt.plot(np.linspace(0,total_time,len(xhat)),xhat,'b-',label='A Posteri Estimate')\n",
    "    plt.plot(np.linspace(0,total_time,len(ztrue)),ztrue,color='g',label='True Value')\n",
    "    plt.legend()\n",
    "    plt.title('Estimate vs. Iteration Step', fontweight='bold')\n",
    "    plt.xlabel('Time (sec)')\n",
    "    plt.ylabel('Orientation (Degrees)')\n",
    "    \n",
    "    plt.figure()\n",
    "    valid_iter = range(1,n_iter) # Phat not valid at step 0\n",
    "    plt.plot(valid_iter,Phat[valid_iter],label='A Posteri Error Estimate')\n",
    "    plt.title('Estimated $\\it{\\mathbf{a \\ priori}}$ Error vs. Iteration Step', fontweight='bold')\n",
    "    plt.xlabel('Iteration')\n",
    "    plt.ylabel('$(Position)^2$')\n",
    "    #plt.setp(plt.gca(),'ylim',[0,.01])\n",
    "    plt.show()\n",
    "    \n",
    "def plotstuff2():\n",
    "    from filterpy.stats import plot_covariance_ellipse\n",
    "    plt.title('Covariance Map Around Random Point (10,10)', fontweight='bold')\n",
    "    plot_covariance_ellipse((10,10),f.P, edgecolor='k', ls='dashed')\n",
    "\n",
    "# x1 = np.zeros(n_iter) #Estimate before update\n",
    "Phat = np.zeros(n_iter) #Variance after update\n",
    "xhat = np.zeros(n_iter) #Estimate after update\n",
    "counter = 0\n",
    "if printcase == 1:\n",
    "    print('PREDICT\\t\\t\\t\\t\\tUPDATE')\n",
    "    print('     x      var\\t\\t  z1\\t  z2\\t    x      var      K')\n",
    "\n",
    "# perform Kalman filter on measurement(s) z\n",
    "f = kf(dim_x=number_of_variables, dim_z=number_of_sensors)\n",
    "f.F = np.array([[1., dt], [0., 1.]]) #correct for calculating position from position and velocity\n",
    "f.H = np.array([[1., 0.], [0., 1.]]) #this is for first sensor measuring position and second one velocity\n",
    "f.x = np.array([[x.mean], [angular_velocity*dt]])\n",
    "f.Q *= np.array([[(dt**3)/3, (dt**2)/2],\n",
    "                  [(dt**2)/2,  dt      ]]) *spectral_density\n",
    "f.P = np.diag([x.var,process_var]) #Variance\n",
    "f.R = np.diag([sensor1_var, sensor2_var])  #Noise in sensors\n",
    "\n",
    "for i in range(n_iter):    \n",
    "    f.predict()\n",
    "    prior = gaussian(f.x_prior[0,0], f.P_prior[0,0])\n",
    "    f.update(np.array([zs[i], zs2[i]]))\n",
    "    x = gaussian(f.x[0,0], f.P[0,0])\n",
    "    if printcase == 1:\n",
    "        print_gh(prior, x, zs[i], zs2[i], f.K[0,0])\n",
    "    if plotcase == 1:\n",
    "#         x1[i] = prior.mean\n",
    "        xhat[i] = x.mean\n",
    "        Phat[i] = x.var\n",
    "    if plotcov == 1:\n",
    "        print()\n",
    "        plotstuff2()\n",
    "\n",
    "if printcase == 1:\n",
    "    print()\n",
    "    print('Final estimate:           {:10.3f}'.format(x.mean))\n",
    "    print('Actual final orientation: {:10.3f}'.format(payload.x))\n",
    "if plotcase == 1:\n",
    "    print()\n",
    "    plotstuff()"
   ]
  },
  {
   "cell_type": "code",
   "execution_count": null,
   "metadata": {},
   "outputs": [],
   "source": []
  }
 ],
 "metadata": {
  "kernelspec": {
   "display_name": "Python 3",
   "language": "python",
   "name": "python3"
  },
  "language_info": {
   "codemirror_mode": {
    "name": "ipython",
    "version": 3
   },
   "file_extension": ".py",
   "mimetype": "text/x-python",
   "name": "python",
   "nbconvert_exporter": "python",
   "pygments_lexer": "ipython3",
   "version": "3.7.7"
  }
 },
 "nbformat": 4,
 "nbformat_minor": 4
}
