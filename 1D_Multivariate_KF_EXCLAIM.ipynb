{
 "cells": [
  {
   "cell_type": "code",
   "execution_count": 30,
   "metadata": {},
   "outputs": [],
   "source": [
    "#Code Prototype for Multivariate 1D use on EXCLAIM Project with multiple sensors, code by Joaquin Matticoli"
   ]
  },
  {
   "cell_type": "code",
   "execution_count": 31,
   "metadata": {},
   "outputs": [],
   "source": [
    "import numpy as np\n",
    "import filterpy\n",
    "from filterpy.kalman import KalmanFilter as kf\n",
    "from filterpy.kalman import predict\n",
    "from filterpy.kalman import update\n",
    "from numpy.random import randn\n",
    "#from filterpy.common import Q_discrete_white_noise\n",
    "import matplotlib.pyplot as plt\n",
    "#import filterpy.stats as stats\n",
    "import math\n",
    "from math import sqrt"
   ]
  },
  {
   "cell_type": "code",
   "execution_count": 32,
   "metadata": {},
   "outputs": [],
   "source": [
    "from collections import namedtuple\n",
    "gaussian = namedtuple('Gaussian', ['mean', 'var'])\n",
    "gaussian.__repr__ = lambda s: '𝒩(μ={:.3f}, 𝜎²={:.3f})'.format(s[0], s[1])\n",
    "\n",
    "np.random.seed(24)\n",
    "\n",
    "def print_gh(predict, update, z1, z2, K):\n",
    "    predict_template = '{: 7.3f} {: 8.3f}'\n",
    "    update_template = '{:.3f}\\t{:.3f}\\t{: 7.3f} {: 7.3f}   {:.3f}'\n",
    "\n",
    "    print(predict_template.format(predict[0], predict[1]),end='\\t')\n",
    "    print(update_template.format(z1, z2, update[0], update[1], K))"
   ]
  },
  {
   "cell_type": "code",
   "execution_count": 33,
   "metadata": {},
   "outputs": [],
   "source": [
    "class PayloadSimulation(object):\n",
    "    def __init__(self, x0=0, angular_velocity2=1,\n",
    "                 measurement1_var=0.0, measurement2_var = 0.0,\n",
    "                 process_var=0.0):\n",
    "        \"\"\" x0 : initial orientation\n",
    "            angular_velocity: (+=counterclockwise, -=clockwise)\n",
    "            measurement_var: variances in measurement deg^2\n",
    "            process_var: variance in process (deg/s)^2\n",
    "        \"\"\"\n",
    "        self.x = x0\n",
    "        self.angular_velocity = angular_velocity2\n",
    "        self.meas1_std = sqrt(measurement1_var)\n",
    "        self.meas2_std = sqrt(measurement2_var)\n",
    "        self.process_std = sqrt(process_var)\n",
    "\n",
    "    def move(self, dt=1.0):\n",
    "        \"\"\"Compute new orientation of the payload in dt seconds.\"\"\"\n",
    "        dx = self.angular_velocity + abs(randn()*self.process_std)\n",
    "        self.x += dx * dt\n",
    "\n",
    "    def sense_position(self):\n",
    "        \"\"\" Returns measurement of new orientation in degrees.\"\"\"\n",
    "        measurement = self.x + abs(randn()*self.meas1_std)\n",
    "        return measurement\n",
    "    \n",
    "    def sense_velocity(self):\n",
    "        \"\"\" Returns measurement of new angular velocity in deg/sec.\"\"\"\n",
    "        measurement2 = self.angular_velocity + abs(randn()*self.meas2_std)\n",
    "        return measurement2\n",
    "\n",
    "    def move_and_sense(self):\n",
    "        \"\"\" Move payload, and return measurement of new orientation in degrees\"\"\"\n",
    "        self.move()\n",
    "        return self.sense_position()"
   ]
  },
  {
   "cell_type": "code",
   "execution_count": 34,
   "metadata": {},
   "outputs": [],
   "source": [
    "printcase = 1 # If set to 1 it will print out the results\n",
    "plotcase = 1 # If set to 1 it will plot results\n",
    "\n",
    "#-----------USER INPUT STARTS------------------------------\n",
    "\n",
    "number_of_variables = 2 #number of variables being measured\n",
    "number_of_sensors = 2 #number of sensors used\n",
    "process_var = 25. # variance in the payload's movement, idk what number is good for this??\n",
    "sensor1_var = 2. # variance in the sensor\n",
    "sensor2_var = 0.5 # variance in second sensor\n",
    "x = gaussian(0., 100.)  # payload's initial orientation in deg\n",
    "angular_velocity = 0.5 # angular velocity in deg/s\n",
    "spectral_density = 0.2 #Spectral density of the measurement noise\n",
    "dt = 1. # time step in seconds\n",
    "total_time = 30 # Total time passed from beginning to end of experiment\n",
    "\n",
    "#-----------USER INPUT ENDS--------------------------------\n",
    "\n",
    "process_model = gaussian(angular_velocity, process_var) # displacement to add to x\n",
    "n_iter = math.floor(total_time/dt)\n",
    "\n",
    "    #NOTE: this code will assume that orientation is always increasing/decreasing and not sinusodial because a more complext Kalman filter is needed for those cases\n",
    "    \n",
    "# simulate payload and get measurements\n",
    "payload = PayloadSimulation(\n",
    "    x0=x.mean, \n",
    "    angular_velocity2=process_model.mean, \n",
    "    measurement1_var=sensor1_var, \n",
    "    measurement2_var=sensor2_var,\n",
    "    process_var=process_model.var)\n",
    "\n",
    "# creates list of measurements, NOTE: modify this section if measurements are provided\n",
    "zs, zs2, ztrue = [], [], []\n",
    "for _ in range(n_iter):\n",
    "    zs.append(payload.move_and_sense())\n",
    "    zs2.append(payload.sense_velocity())\n",
    "    ztrue.append(payload.x)\n",
    "finalposition = payload.x"
   ]
  },
  {
   "cell_type": "code",
   "execution_count": 35,
   "metadata": {},
   "outputs": [
    {
     "name": "stdout",
     "output_type": "stream",
     "text": [
      "PREDICT\t\t\t\t\tUPDATE\n",
      "     x      var\t\t  z1\t  z2\t    x      var      K\n",
      "  0.500  125.067\t8.235\t0.724\t  8.089   1.961   0.981\n",
      "  8.844    2.535\t14.114\t1.517\t 11.825   1.075   0.538\n",
      " 13.261    1.615\t16.340\t1.650\t 14.613   0.847   0.424\n",
      " 16.320    1.370\t18.480\t1.836\t 17.177   0.766   0.383\n",
      " 19.064    1.283\t22.975\t0.840\t 20.259   0.734   0.367\n",
      " 21.914    1.250\t29.634\t1.248\t 24.604   0.721   0.361\n",
      " 26.531    1.238\t29.635\t1.445\t 27.531   0.716   0.358\n",
      " 29.429    1.233\t34.191\t0.545\t 30.814   0.715   0.357\n",
      " 32.404    1.232\t35.037\t0.501\t 33.090   0.714   0.357\n",
      " 34.362    1.231\t42.470\t1.234\t 37.246   0.714   0.357\n",
      " 38.976    1.231\t45.132\t1.693\t 41.164   0.714   0.357\n",
      " 43.238    1.231\t53.547\t1.977\t 46.894   0.714   0.357\n",
      " 49.530    1.231\t53.569\t0.915\t 50.568   0.714   0.357\n",
      " 52.695    1.231\t56.417\t0.705\t 53.690   0.714   0.357\n",
      " 55.419    1.231\t66.118\t1.229\t 59.119   0.714   0.357\n",
      " 61.258    1.231\t66.102\t0.533\t 62.610   0.714   0.357\n",
      " 64.337    1.231\t75.270\t1.703\t 68.233   0.714   0.357\n",
      " 70.589    1.231\t81.506\t0.808\t 74.122   0.714   0.357\n",
      " 76.446    1.231\t83.538\t0.577\t 78.568   0.714   0.357\n",
      " 80.550    1.231\t84.132\t0.853\t 81.564   0.714   0.357\n",
      " 83.267    1.231\t87.765\t1.106\t 84.732   0.714   0.357\n",
      " 86.440    1.231\t97.937\t1.256\t 90.436   0.714   0.357\n",
      " 92.621    1.231\t112.458\t1.318\t 99.497   0.714   0.357\n",
      " 102.467    1.231\t117.274\t2.074\t 107.541   0.714   0.357\n",
      " 110.990    1.231\t118.947\t0.604\t 113.163   0.714   0.357\n",
      " 115.846    1.231\t127.750\t0.521\t 119.587   0.714   0.357\n",
      " 122.030    1.231\t134.346\t1.653\t 126.240   0.714   0.357\n",
      " 129.061    1.231\t133.451\t0.966\t 130.193   0.714   0.357\n",
      " 132.468    1.231\t142.173\t0.591\t 135.537   0.714   0.357\n",
      " 137.650    1.231\t146.607\t0.535\t 140.476   0.714   0.357\n",
      "\n",
      "Final estimate:              140.476\n",
      "Actual final orientation:    145.625\n"
     ]
    },
    {
     "data": {
      "image/png": "[encoded data removed]",
      "text/plain": [
       "<Figure size 432x288 with 1 Axes>"
      ]
     },
     "metadata": {
      "needs_background": "light"
     },
     "output_type": "display_data"
    },
    {
     "data": {
      "image/png": "[encoded data removed]",
      "text/plain": [
       "<Figure size 432x288 with 1 Axes>"
      ]
     },
     "metadata": {
      "needs_background": "light"
     },
     "output_type": "display_data"
    }
   ],
   "source": [
    "def plotstuff():\n",
    "    plt.figure()\n",
    "    plt.plot(np.linspace(0,total_time,len(zs)),zs,'k+',label='Noisy Position Measurements')\n",
    "    #plt.plot(np.linspace(0,total_time,len(x1)),x1,'r*',label='A Priori Estimate')\n",
    "    plt.plot(np.linspace(0,total_time,len(xhat)),xhat,'b-',label='A Posteri Estimate')\n",
    "    plt.plot(np.linspace(0,total_time,len(ztrue)),ztrue,color='g',label='True Value')\n",
    "    plt.legend()\n",
    "    plt.title('Estimate vs. Iteration Step', fontweight='bold')\n",
    "    plt.xlabel('Time (sec)')\n",
    "    plt.ylabel('Orientation (Degrees)')\n",
    "    \n",
    "    plt.figure()\n",
    "    valid_iter = range(1,n_iter) # Pminus not valid at step 0\n",
    "    plt.plot(valid_iter,Pminus[valid_iter],label='A Posteri Error Estimate')\n",
    "    plt.title('Estimated $\\it{\\mathbf{a \\ priori}}$ Error vs. Iteration Step', fontweight='bold')\n",
    "    plt.xlabel('Iteration')\n",
    "    plt.ylabel('$(Position)^2$')\n",
    "    #plt.setp(plt.gca(),'ylim',[0,.01])\n",
    "    plt.show()\n",
    "\n",
    "# x1 = np.zeros(n_iter) #Estimate before update\n",
    "Pminus = np.zeros(n_iter) #Variance after update\n",
    "xhat = np.zeros(n_iter) #Estimate after update\n",
    "counter = 0\n",
    "if printcase == 1:\n",
    "    print('PREDICT\\t\\t\\t\\t\\tUPDATE')\n",
    "    print('     x      var\\t\\t  z1\\t  z2\\t    x      var      K')\n",
    "\n",
    "# perform Kalman filter on measurement(s) z\n",
    "f = kf(dim_x=number_of_variables, dim_z=number_of_sensors)\n",
    "f.F = np.array([[1., dt], [0., 1.]]) #correct for calculating position from position and velocity\n",
    "f.H = np.array([[1., 0.], [0., 1.]]) #this is for first sensor measuring position and second one velocity\n",
    "f.x = np.array([[x.mean], [angular_velocity*dt]])\n",
    "f.Q *= np.array([[(dt**3)/3, (dt**2)/2],\n",
    "                  [(dt**2)/2,  dt      ]]) *spectral_density\n",
    "f.P = np.diag([x.var,process_var]) #Variance\n",
    "f.R = np.diag([sensor1_var, sensor2_var])  #Noise in sensors\n",
    "\n",
    "for i in range(n_iter):    \n",
    "    f.predict()\n",
    "    prior = gaussian(f.x_prior[0,0], f.P_prior[0,0])\n",
    "    f.update(np.array([zs[i], zs2[i]]))\n",
    "    x = gaussian(f.x[0,0], f.P[0,0])\n",
    "    if printcase == 1:\n",
    "        print_gh(prior, x, zs[i], zs2[i], f.K[0,0])\n",
    "    if plotcase == 1:\n",
    "#         x1[i] = prior.mean\n",
    "        xhat[i] = x.mean\n",
    "        Pminus[i] = x.var\n",
    "\n",
    "if printcase == 1:\n",
    "    print()\n",
    "    print('Final estimate:           {:10.3f}'.format(x.mean))\n",
    "    print('Actual final orientation: {:10.3f}'.format(payload.x))\n",
    "if plotcase == 1:\n",
    "    print()\n",
    "    plotstuff()"
   ]
  },
  {
   "cell_type": "code",
   "execution_count": null,
   "metadata": {},
   "outputs": [],
   "source": []
  }
 ],
 "metadata": {
  "kernelspec": {
   "display_name": "Python 3",
   "language": "python",
   "name": "python3"
  },
  "language_info": {
   "codemirror_mode": {
    "name": "ipython",
    "version": 3
   },
   "file_extension": ".py",
   "mimetype": "text/x-python",
   "name": "python",
   "nbconvert_exporter": "python",
   "pygments_lexer": "ipython3",
   "version": "3.7.7"
  }
 },
 "nbformat": 4,
 "nbformat_minor": 4
}
