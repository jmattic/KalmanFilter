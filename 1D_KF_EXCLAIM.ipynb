{
 "cells": [
  {
   "cell_type": "code",
   "execution_count": 310,
   "metadata": {},
   "outputs": [],
   "source": [
    "#Code Prototype for 1D use on EXCLAIM Project with one sensor, code by Joaquin Matticoli"
   ]
  },
  {
   "cell_type": "code",
   "execution_count": 311,
   "metadata": {},
   "outputs": [],
   "source": [
    "import numpy as np\n",
    "import filterpy\n",
    "from filterpy.kalman import KalmanFilter as kf\n",
    "from filterpy.kalman import predict\n",
    "from filterpy.kalman import update\n",
    "from numpy.random import randn\n",
    "from filterpy.common import Q_discrete_white_noise\n",
    "import matplotlib.pyplot as plt\n",
    "import filterpy.stats as stats\n",
    "import math\n",
    "from math import sqrt"
   ]
  },
  {
   "cell_type": "code",
   "execution_count": 312,
   "metadata": {},
   "outputs": [],
   "source": [
    "from collections import namedtuple\n",
    "gaussian = namedtuple('Gaussian', ['mean', 'var'])\n",
    "gaussian.__repr__ = lambda s: '𝒩(μ={:.3f}, 𝜎²={:.3f})'.format(s[0], s[1])\n",
    "\n",
    "np.random.seed(24)\n",
    "\n",
    "def print_gh(predict, update, z1, K):\n",
    "    predict_template = '{: 7.3f} {: 8.3f}'\n",
    "    update_template = '{:.3f}\\t{: 7.3f} {: 7.3f}     {:.3f}'\n",
    "\n",
    "    print(predict_template.format(predict[0], predict[1]),end='\\t')\n",
    "    print(update_template.format(z1, update[0], update[1], K))"
   ]
  },
  {
   "cell_type": "code",
   "execution_count": 313,
   "metadata": {},
   "outputs": [],
   "source": [
    "class PayloadSimulation(object):\n",
    "    def __init__(self, x0=0, angular_velocity2=1,\n",
    "                 measurement1_var=0.0, measurement2_var = 0.0,\n",
    "                 process_var=0.0):\n",
    "        \"\"\" x0 : initial orientation\n",
    "            angular_velocity: (+=counterclockwise, -=clockwise)\n",
    "            measurement_var: variances in measurement deg^2\n",
    "            process_var: variance in process (deg/s)^2\n",
    "        \"\"\"\n",
    "        self.x = x0\n",
    "        self.angular_velocity = angular_velocity2\n",
    "        self.meas1_std = sqrt(measurement1_var)\n",
    "        self.meas2_std = sqrt(measurement2_var)\n",
    "        self.process_std = sqrt(process_var)\n",
    "\n",
    "    def move(self, dt=1.0):\n",
    "        \"\"\"Compute new orientation of the payload in dt seconds.\"\"\"\n",
    "        dx = self.angular_velocity + abs(randn()*self.process_std)\n",
    "        self.x += dx * dt\n",
    "\n",
    "    def sense_position(self):\n",
    "        \"\"\" Returns measurement of new orientation in degrees.\"\"\"\n",
    "        measurement = self.x + abs(randn()*self.meas1_std)\n",
    "        return measurement\n",
    "    \n",
    "    def sense_velocity(self):\n",
    "        \"\"\" Returns measurement of new angular velocity in deg/sec.\"\"\"\n",
    "        measurement2 = self.angular_velocity + abs(randn()*self.meas2_std)\n",
    "        return measurement2\n",
    "\n",
    "    def move_and_sense(self):\n",
    "        \"\"\" Move payload, and return measurement of new orientation in degrees\"\"\"\n",
    "        self.move()\n",
    "        return self.sense_position()"
   ]
  },
  {
   "cell_type": "code",
   "execution_count": 314,
   "metadata": {},
   "outputs": [],
   "source": [
    "printcase = 1 # If set to 1 it will print out the results\n",
    "plotcase = 1 # If set to 1 it will plot results\n",
    "\n",
    "#-----------USER INPUT STARTS------------------------------\n",
    "\n",
    "number_of_variables = 2 #number of variables being measured\n",
    "number_of_sensors = 1 #number of sensors used\n",
    "process_var = 25. # variance in the payload's movement, idk what number is good for this??\n",
    "sensor1_var = 2. # variance in the sensor\n",
    "#sensor2_var = 0.5 # variance in second sensor\n",
    "x = gaussian(0., 100.)  # payload's initial orientation in deg\n",
    "angular_velocity = 0.5 # angular velocity in deg/s\n",
    "dt = 2. # time step in seconds\n",
    "total_time = 30. # Total time passed from beginning to end of experiment\n",
    "\n",
    "#-----------USER INPUT ENDS--------------------------------\n",
    "\n",
    "process_model = gaussian(angular_velocity, process_var) # displacement to add to x\n",
    "n_iter = math.floor(total_time/dt)\n",
    "\n",
    "    #NOTE: this code will assume that orientation is always increasing/decreasing and not sinusodial because a more complext Kalman filter is needed for those cases\n",
    "    \n",
    "# simulate payload and get measurements\n",
    "payload = PayloadSimulation(\n",
    "    x0=x.mean, \n",
    "    angular_velocity2=process_model.mean, \n",
    "    measurement1_var=sensor1_var, \n",
    "    process_var=process_model.var)\n",
    "\n",
    "# creates list of measurements, NOTE: modify this section if measurements are provided\n",
    "zs, zs2, ztrue = [], [], []\n",
    "for _ in range(n_iter):\n",
    "    zs.append(payload.move_and_sense())\n",
    "    #zs2.append(payload.sense_velocity())\n",
    "    ztrue.append(payload.x)\n",
    "finalposition = payload.x"
   ]
  },
  {
   "cell_type": "code",
   "execution_count": 315,
   "metadata": {},
   "outputs": [
    {
     "name": "stdout",
     "output_type": "stream",
     "text": [
      "PREDICT\t\t\t\tUPDATE\n",
      "     x      var\t\t  z1\t    x      var         K\n",
      "  1.229  201.000\t8.735\t  8.661   1.980     0.990\n",
      " 13.587   59.690\t11.629\t 11.692   1.935     0.968\n",
      " 14.849   14.952\t18.616\t 18.172   1.764     0.882\n",
      " 23.598   11.427\t20.822\t 21.235   1.702     0.851\n",
      " 25.119   11.035\t29.846\t 29.121   1.693     0.847\n",
      " 35.624   11.019\t36.602\t 36.451   1.693     0.846\n",
      " 43.496   11.019\t39.884\t 40.439   1.693     0.846\n",
      " 45.482   11.018\t44.346\t 44.520   1.693     0.846\n",
      " 48.933   11.017\t52.906\t 52.296   1.693     0.846\n",
      " 58.911   11.017\t53.966\t 54.726   1.693     0.846\n",
      " 58.600   11.017\t61.719\t 61.240   1.693     0.846\n",
      " 66.843   11.017\t68.977\t 68.649   1.693     0.846\n",
      " 75.435   11.017\t72.203\t 72.700   1.693     0.846\n",
      " 77.694   11.017\t73.808\t 74.405   1.693     0.846\n",
      " 77.245   11.017\t75.745\t 75.976   1.693     0.846\n",
      "\n",
      "final estimate:               75.976\n",
      "actual final orientation:     74.278\n"
     ]
    },
    {
     "data": {
      "image/png": "[encoded data removed]",
      "text/plain": [
       "<Figure size 432x288 with 1 Axes>"
      ]
     },
     "metadata": {
      "needs_background": "light"
     },
     "output_type": "display_data"
    },
    {
     "data": {
      "image/png": "[encoded data removed]",
      "text/plain": [
       "<Figure size 432x288 with 1 Axes>"
      ]
     },
     "metadata": {
      "needs_background": "light"
     },
     "output_type": "display_data"
    }
   ],
   "source": [
    "def plotstuff():\n",
    "    plt.figure()\n",
    "    plt.plot(np.linspace(0,total_time,len(zs)),zs,'k+',label='Noisy Measurements')\n",
    "#     plt.plot(np.linspace(0,total_time,len(x1)),x1,'r*',label='A Priori Estimate')\n",
    "    plt.plot(np.linspace(0,total_time,len(xhat)),xhat,'b-',label='A Posteri Estimate')\n",
    "    plt.plot(np.linspace(0,total_time,len(ztrue)),ztrue,color='g',label='True Value')\n",
    "    #plt.plot(xhat,'r*',label='prediction')\n",
    "    plt.legend()\n",
    "    plt.title('Estimate vs. Iteration Step', fontweight='bold')\n",
    "    plt.xlabel('Time (sec)')\n",
    "    plt.ylabel('Position')\n",
    "    \n",
    "    plt.figure()\n",
    "    valid_iter = range(1,n_iter) # Pminus not valid at step 0\n",
    "    plt.plot(valid_iter,Pminus[valid_iter],label='A Posteri Error Estimate')\n",
    "    plt.title('Estimated $\\it{\\mathbf{a \\ priori}}$ Error vs. Iteration Step', fontweight='bold')\n",
    "    plt.xlabel('Iteration')\n",
    "    plt.ylabel('$(Position)^2$')\n",
    "    #plt.setp(plt.gca(),'ylim',[0,.01])\n",
    "    plt.show()\n",
    "\n",
    "# x1 = np.zeros(n_iter)\n",
    "#x2 = np.zeros(n_iter)\n",
    "Pminus = np.zeros(n_iter)\n",
    "xhat = np.zeros(n_iter)\n",
    "counter = 0\n",
    "if printcase == 1:\n",
    "    print('PREDICT\\t\\t\\t\\tUPDATE')\n",
    "    print('     x      var\\t\\t  z1\\t    x      var         K')\n",
    "\n",
    "# perform Kalman filter on measurement(s) z\n",
    "f = kf(dim_x=number_of_variables, dim_z=number_of_sensors)\n",
    "f.F = np.array([[1., dt], [0., 1.]]) #correct for calculating position from position and velocity\n",
    "f.H = np.array([[1., 0.]]) #this is for first sensor measuring position\n",
    "f.x = np.array([[x.mean], [angular_velocity*dt+randn()]])\n",
    "#f.Q *= np.array([[(dt**3)/3, (dt**2)/2],\n",
    "#                 [(dt**2)/2,  dt      ]]) * 0.02 #arbitrary\n",
    "f.P = np.diag([x.var,process_var]) #Variance\n",
    "f.R = sensor1_var  #Noise in sensors\n",
    "\n",
    "for i in range(n_iter):    \n",
    "    f.predict()\n",
    "    prior = gaussian(f.x_prior[0,0], f.P_prior[0,0])\n",
    "    f.update(zs[i])\n",
    "    x = gaussian(f.x[0,0], f.P[0,0])\n",
    "    if printcase == 1:\n",
    "        print_gh(prior, x, zs[i], f.K[0,0])\n",
    "    if plotcase == 1:\n",
    "#         x1[i] = prior.mean\n",
    "        xhat[i] = x.mean\n",
    "        Pminus[i] = x.var\n",
    "\n",
    "if printcase == 1:\n",
    "    print()\n",
    "    print('final estimate:           {:10.3f}'.format(x.mean))\n",
    "    print('actual final orientation: {:10.3f}'.format(payload.x))\n",
    "if plotcase == 1:\n",
    "    print()\n",
    "    plotstuff()"
   ]
  },
  {
   "cell_type": "code",
   "execution_count": null,
   "metadata": {},
   "outputs": [],
   "source": []
  }
 ],
 "metadata": {
  "kernelspec": {
   "display_name": "Python 3",
   "language": "python",
   "name": "python3"
  },
  "language_info": {
   "codemirror_mode": {
    "name": "ipython",
    "version": 3
   },
   "file_extension": ".py",
   "mimetype": "text/x-python",
   "name": "python",
   "nbconvert_exporter": "python",
   "pygments_lexer": "ipython3",
   "version": "3.7.7"
  }
 },
 "nbformat": 4,
 "nbformat_minor": 4
}
